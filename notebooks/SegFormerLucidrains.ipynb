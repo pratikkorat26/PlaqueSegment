{
 "cells": [
  {
   "cell_type": "code",
   "execution_count": 6,
   "id": "09699cc7",
   "metadata": {},
   "outputs": [],
   "source": [
    "from segformer_pytorch import Segformer\n",
    "import torch\n",
    "import torch.nn as nn\n",
    "import torch.nn.functional as F\n",
    "from torch.utils.data import Dataset, DataLoader\n",
    "import os\n",
    "from torchvision.transforms import v2 as v2"
   ]
  },
  {
   "cell_type": "code",
   "execution_count": 5,
   "id": "7973fb47",
   "metadata": {},
   "outputs": [],
   "source": [
    "model = Segformer()"
   ]
  },
  {
   "cell_type": "code",
   "execution_count": 7,
   "id": "5facc20b",
   "metadata": {},
   "outputs": [],
   "source": [
    "transforms = v2.Compose(\n",
    "    [\n",
    "        v2.ToImage(),\n",
    "        v2.ToDtype(torch.float32)\n",
    "    ]\n",
    ")"
   ]
  },
  {
   "cell_type": "code",
   "execution_count": null,
   "id": "6c1290d8",
   "metadata": {},
   "outputs": [],
   "source": [
    "img = Image.open(\"../data/processed/train/images/1.png\")\n",
    "msk = Image.open(\"../data/processed/train/masks/1.png\")\n",
    "\n",
    "img2 = Image.open(\"../data/processed/train/images/2.png\")\n",
    "msk2 = Image.open(\"../data/processed/train/masks/2.png\")\n",
    "\n",
    "img_com = transforms([img, img2])\n",
    "\n",
    "msk_com = torch.tensor(np.array([msk, msk2]), dtype = torch.long)\n",
    "\n",
    "img_com = image_processor(img_com, msk_com, return_tensors = \"pt\")\n",
    "\n",
    "len(img_com)"
   ]
  }
 ],
 "metadata": {
  "kernelspec": {
   "display_name": "Python 3 (ipykernel)",
   "language": "python",
   "name": "python3"
  },
  "language_info": {
   "codemirror_mode": {
    "name": "ipython",
    "version": 3
   },
   "file_extension": ".py",
   "mimetype": "text/x-python",
   "name": "python",
   "nbconvert_exporter": "python",
   "pygments_lexer": "ipython3",
   "version": "3.11.5"
  }
 },
 "nbformat": 4,
 "nbformat_minor": 5
}
